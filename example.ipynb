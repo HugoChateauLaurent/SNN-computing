{
 "cells": [
  {
   "cell_type": "markdown",
   "metadata": {
    "id": "2tMvLz-C3mzv"
   },
   "source": [
    "# Neuromorphic Computing Course"
   ]
  },
  {
   "cell_type": "markdown",
   "metadata": {
    "id": "XgmwNyIE3xWl"
   },
   "source": [
    "## 0. Example Code"
   ]
  },
  {
   "cell_type": "markdown",
   "metadata": {
    "id": "Om-p1hwX33u6"
   },
   "source": [
    "### Download the program and move it up one directory.\n"
   ]
  },
  {
   "cell_type": "code",
   "execution_count": null,
   "metadata": {
    "colab": {
     "base_uri": "https://localhost:8080/"
    },
    "id": "XhN_v3owesu9",
    "outputId": "f0524329-a066-448e-dc96-88e962208fc2"
   },
   "outputs": [],
   "source": [
    "# Delete everything in the content (current) directory on google colab\n",
    "!rm -rf /content/* || echo rm -rf /content/* failed\n",
    "\n",
    "# Clone git repo, change the branch and move it up by one level in the folder hierarchy\n",
    "!git clone https://gitlab.socsci.ru.nl/snnsimulator/simsnn.git\n",
    "!mv ./simsnn ./simsnnn\n",
    "!mv ./simsnnn/* ./\n",
    "!rm -rf simsnnn || echo rm -rf simsnnn failed"
   ]
  },
  {
   "cell_type": "markdown",
   "metadata": {
    "id": "K2DqlgAq5G1_"
   },
   "source": [
    "### Creating a programmed neuron."
   ]
  },
  {
   "cell_type": "code",
   "execution_count": null,
   "metadata": {
    "colab": {
     "base_uri": "https://localhost:8080/",
     "height": 614
    },
    "id": "djAG4IwN0zPV",
    "outputId": "5366ae71-86e7-44cd-b93f-27b00e66f266"
   },
   "outputs": [],
   "source": [
    "from simsnn.core.networks import Network\n",
    "from simsnn.core.simulators import Simulator\n",
    "\n",
    "# Create the network and the simulator object\n",
    "net = Network()\n",
    "sim = Simulator(net)\n",
    "\n",
    "# Create a programmed neuron, that spikes on times 1 and 3,\n",
    "# does not repeat it's programming and has the ID \"pn\".\n",
    "programmed_neuron = net.createInputTrain(train=[0,1,0,1], loop=False, ID=\"pn\")\n",
    "\n",
    "# Add all neurons to the raster\n",
    "sim.raster.addTarget(programmed_neuron)\n",
    "# Add all neurons to the multimeter\n",
    "sim.multimeter.addTarget(programmed_neuron)\n",
    "\n",
    "# Run the simulation for 10 rounds, enable the plotting of the raster,\n",
    "# the multimeter and the network structure.\n",
    "sim.run(steps=10, plotting=True)"
   ]
  },
  {
   "cell_type": "markdown",
   "metadata": {
    "id": "VMgg6oE055u2"
   },
   "source": [
    "Do you understand what is going on?"
   ]
  },
  {
   "cell_type": "markdown",
   "metadata": {
    "id": "9k5Ya4EO6CFB"
   },
   "source": [
    "### Connecting two neurons with a synapse."
   ]
  },
  {
   "cell_type": "code",
   "execution_count": null,
   "metadata": {
    "colab": {
     "base_uri": "https://localhost:8080/",
     "height": 648
    },
    "id": "75-0lmfS55Bu",
    "outputId": "9ed3a704-573d-49ed-9586-9e72260a4daa"
   },
   "outputs": [],
   "source": [
    "from simsnn.core.networks import Network\n",
    "from simsnn.core.simulators import Simulator\n",
    "\n",
    "net = Network()\n",
    "sim = Simulator(net)\n",
    "\n",
    "programmed_neuron = net.createInputTrain(train=[0,1,0,1], loop=False, ID=\"pn\")\n",
    "\n",
    "# Create a LIF neuron, with a membrane voltage threshold of 1,\n",
    "# a post spike reset value of 0 and no voltage decay (m=1).\n",
    "lif_neuron = net.createLIF(ID=\"ln\", thr=1, V_reset=0, m=1)\n",
    "\n",
    "# Create a Synapse, between the programmed neuron and the LIF neuron,\n",
    "# with a voltage weight of 1 and a delay of 1.\n",
    "net.createSynapse(pre=programmed_neuron, post=lif_neuron, ID=\"pn-ln\", w=1, d=1)\n",
    "\n",
    "sim.raster.addTarget([programmed_neuron, lif_neuron])\n",
    "sim.multimeter.addTarget([programmed_neuron, lif_neuron])\n",
    "\n",
    "sim.run(steps=10, plotting=True)"
   ]
  },
  {
   "cell_type": "markdown",
   "metadata": {
    "id": "wepW4lBdA6Xv"
   },
   "source": [
    "Note how the LIF neuron does not ever seem to get any voltage. This is just an artifact of the timing of the voltage measurement. The voltages are measured at the end of every discrete timestep. When a LIF neuron spikes, its voltage will be reset to the V_reset value, which is 0 in this case."
   ]
  },
  {
   "cell_type": "markdown",
   "metadata": {
    "id": "3joozzLRBZY-"
   },
   "source": [
    "### Creating an endlessly spiking neuron"
   ]
  },
  {
   "cell_type": "code",
   "execution_count": null,
   "metadata": {
    "colab": {
     "base_uri": "https://localhost:8080/",
     "height": 614
    },
    "id": "ZHwThDthA4zc",
    "outputId": "c30fb0b3-3406-43f7-9169-8bd03f4c6284"
   },
   "outputs": [],
   "source": [
    "from simsnn.core.networks import Network\n",
    "from simsnn.core.simulators import Simulator\n",
    "\n",
    "net = Network()\n",
    "sim = Simulator(net)\n",
    "\n",
    "# Create a neuron that has threshold of 4, a post spike reset value of 0, \n",
    "# no voltage decay and a constant input current of 1\n",
    "lif_neuron = net.createLIF(ID=\"ln\", thr=4, V_reset=0, m=1, I_e=1)\n",
    "\n",
    "sim.raster.addTarget([lif_neuron])\n",
    "sim.multimeter.addTarget([lif_neuron])\n",
    "\n",
    "sim.run(steps=10, plotting=True)"
   ]
  }
 ],
 "metadata": {
  "colab": {
   "collapsed_sections": [],
   "name": "simsnn in the cloud.ipynb",
   "provenance": []
  },
  "kernelspec": {
   "display_name": "Python 3 (ipykernel)",
   "language": "python",
   "name": "python3"
  },
  "language_info": {
   "codemirror_mode": {
    "name": "ipython",
    "version": 3
   },
   "file_extension": ".py",
   "mimetype": "text/x-python",
   "name": "python",
   "nbconvert_exporter": "python",
   "pygments_lexer": "ipython3",
   "version": "3.8.11"
  }
 },
 "nbformat": 4,
 "nbformat_minor": 4
}
